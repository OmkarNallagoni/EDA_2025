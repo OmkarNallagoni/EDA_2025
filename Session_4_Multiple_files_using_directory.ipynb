{
 "cells": [
  {
   "cell_type": "code",
   "execution_count": null,
   "id": "53689b48-b0e6-4e12-a68a-9fafd159c450",
   "metadata": {},
   "outputs": [],
   "source": [
    "# Import the packages\n",
    "# read the data\n",
    "# divide into categorical and numerical\n",
    "# create a frequncy table using value counts\n",
    "# and save at a python folder"
   ]
  },
  {
   "cell_type": "code",
   "execution_count": 1,
   "id": "2a3bad8b-3dfb-409f-b99f-499a0e458a24",
   "metadata": {},
   "outputs": [],
   "source": [
    "import pandas as pd\n",
    "import numpy as np\n",
    "import matplotlib.pyplot as plt\n",
    "import seaborn as sns\n",
    "\n",
    "file_path=r'C:\\Users\\omkar\\OneDrive\\Documents\\Gen_AI\\Data_files\\Visadataset.csv'\n",
    "visa_df=pd.read_csv(file_path)\n",
    "\n",
    "cat=visa_df.select_dtypes(include='object').columns\n",
    "num=visa_df.select_dtypes(exclude='object').columns"
   ]
  },
  {
   "cell_type": "code",
   "execution_count": 3,
   "id": "f50ca94e-8518-469d-8b63-607dc36e8b2f",
   "metadata": {},
   "outputs": [],
   "source": [
    "visa_df['continent'].value_counts()\n",
    "keys=visa_df['continent'].value_counts().keys()\n",
    "values=visa_df['continent'].value_counts().values\n",
    "df=pd.DataFrame(zip(keys,values),\n",
    "             columns=['Continent','Number of Applicants'])\n",
    "df.to_csv('continent_df.csv')"
   ]
  },
  {
   "cell_type": "code",
   "execution_count": 5,
   "id": "41d32872-f112-4ba9-8f11-bad1a23797e9",
   "metadata": {},
   "outputs": [
    {
     "data": {
      "text/html": [
       "<div>\n",
       "<style scoped>\n",
       "    .dataframe tbody tr th:only-of-type {\n",
       "        vertical-align: middle;\n",
       "    }\n",
       "\n",
       "    .dataframe tbody tr th {\n",
       "        vertical-align: top;\n",
       "    }\n",
       "\n",
       "    .dataframe thead th {\n",
       "        text-align: right;\n",
       "    }\n",
       "</style>\n",
       "<table border=\"1\" class=\"dataframe\">\n",
       "  <thead>\n",
       "    <tr style=\"text-align: right;\">\n",
       "      <th></th>\n",
       "      <th>Continent</th>\n",
       "      <th>Number of Applicants</th>\n",
       "    </tr>\n",
       "  </thead>\n",
       "  <tbody>\n",
       "    <tr>\n",
       "      <th>0</th>\n",
       "      <td>Asia</td>\n",
       "      <td>16861</td>\n",
       "    </tr>\n",
       "    <tr>\n",
       "      <th>1</th>\n",
       "      <td>Europe</td>\n",
       "      <td>3732</td>\n",
       "    </tr>\n",
       "    <tr>\n",
       "      <th>2</th>\n",
       "      <td>North America</td>\n",
       "      <td>3292</td>\n",
       "    </tr>\n",
       "    <tr>\n",
       "      <th>3</th>\n",
       "      <td>South America</td>\n",
       "      <td>852</td>\n",
       "    </tr>\n",
       "    <tr>\n",
       "      <th>4</th>\n",
       "      <td>Africa</td>\n",
       "      <td>551</td>\n",
       "    </tr>\n",
       "    <tr>\n",
       "      <th>5</th>\n",
       "      <td>Oceania</td>\n",
       "      <td>192</td>\n",
       "    </tr>\n",
       "  </tbody>\n",
       "</table>\n",
       "</div>"
      ],
      "text/plain": [
       "       Continent  Number of Applicants\n",
       "0           Asia                 16861\n",
       "1         Europe                  3732\n",
       "2  North America                  3292\n",
       "3  South America                   852\n",
       "4         Africa                   551\n",
       "5        Oceania                   192"
      ]
     },
     "execution_count": 5,
     "metadata": {},
     "output_type": "execute_result"
    }
   ],
   "source": [
    "df"
   ]
  },
  {
   "cell_type": "markdown",
   "id": "9a260107-0550-4757-bf4a-c7df9cc8420e",
   "metadata": {},
   "source": [
    "**create a new folder**"
   ]
  },
  {
   "cell_type": "markdown",
   "id": "f9e9e38e-fcd5-457d-a5b2-5788b66c243b",
   "metadata": {},
   "source": [
    "- I want to save in a folder that folder should avaialble in python location"
   ]
  },
  {
   "cell_type": "code",
   "execution_count": 15,
   "id": "3c34da49-a37e-45c5-a407-dddcf8635b67",
   "metadata": {},
   "outputs": [
    {
     "name": "stdout",
     "output_type": "stream",
     "text": [
      "[WinError 183] Cannot create a file when that file already exists: 'frequency_tables'\n"
     ]
    }
   ],
   "source": [
    "import os\n",
    "new_folder_name='frequency_tables'\n",
    "try:\n",
    "    os.makedirs(new_folder_name)\n",
    "except Exception as e:\n",
    "    print(e)"
   ]
  },
  {
   "cell_type": "code",
   "execution_count": null,
   "id": "130232b3-2921-4125-8c91-c9fc0217ea53",
   "metadata": {},
   "outputs": [],
   "source": [
    "C:\\Users\\omkar\\OneDrive\\Documents\\Data science\\Naresh IT\\Naresh IT\\Data science\\Batches\\Batch-15_Apr\\EDA\\frequency_tables\n",
    "C:\\Users\\omkar\\OneDrive\\Documents\\Data science\\Naresh IT\\Naresh IT\\Data science\\Batches\\Batch-15_Apr\\EDA"
   ]
  },
  {
   "cell_type": "code",
   "execution_count": 19,
   "id": "dd86aec5-865d-4fec-957f-cb86d37f9fc3",
   "metadata": {},
   "outputs": [],
   "source": [
    "visa_df['continent'].value_counts()\n",
    "keys=visa_df['continent'].value_counts().keys()\n",
    "values=visa_df['continent'].value_counts().values\n",
    "df=pd.DataFrame(zip(keys,values),\n",
    "             columns=['Continent','Number of Applicants'])\n",
    "df.to_csv(r'C:\\Users\\omkar\\OneDrive\\Documents\\Data science\\Naresh IT\\Naresh IT\\Data science\\Batches\\Batch-15_Apr\\EDA\\frequency_tables\\continent_df.csv')"
   ]
  },
  {
   "cell_type": "code",
   "execution_count": null,
   "id": "588c0a0f-89a7-4bae-9144-8b7398f55808",
   "metadata": {},
   "outputs": [],
   "source": [
    "'C:\\Users\\omkar\\OneDrive\\Documents\\Data science\\Naresh IT\\Naresh IT\\Data science\\Batches\\Batch-15_Apr\\EDA\\\n",
    "frequency_tables\\\n",
    "continent_df.csv'"
   ]
  },
  {
   "cell_type": "code",
   "execution_count": 25,
   "id": "47ab3558-fddb-4a50-9a45-c09e7508ba65",
   "metadata": {},
   "outputs": [
    {
     "data": {
      "text/plain": [
       "'C:\\\\Users\\\\omkar\\\\OneDrive\\\\Documents\\\\Data science\\\\Naresh IT\\\\Naresh IT\\\\Data science\\\\Batches\\\\Batch-15_Apr\\\\EDA\\\\frequency_tables'"
      ]
     },
     "execution_count": 25,
     "metadata": {},
     "output_type": "execute_result"
    }
   ],
   "source": [
    "os.getcwd()+'\\\\'+new_folder_name"
   ]
  },
  {
   "cell_type": "code",
   "execution_count": 29,
   "id": "341c1a9e-492a-4a8c-98b9-4ba97bd4eb59",
   "metadata": {},
   "outputs": [
    {
     "data": {
      "text/plain": [
       "'C:\\\\Users\\\\omkar\\\\OneDrive\\\\Documents\\\\Data science\\\\Naresh IT\\\\Naresh IT\\\\Data science\\\\Batches\\\\Batch-15_Apr\\\\EDA\\\\frequency_tables\\\\continent.csv'"
      ]
     },
     "execution_count": 29,
     "metadata": {},
     "output_type": "execute_result"
    }
   ],
   "source": [
    "cwd=os.getcwd()  # python location\n",
    "new_dir=os.path.join(cwd,new_folder_name) # folder location\n",
    "file_name='continent.csv'\n",
    "new_path=os.path.join(new_dir,file_name) # path\n",
    "new_path"
   ]
  },
  {
   "cell_type": "code",
   "execution_count": 31,
   "id": "03c4bda8-198b-4614-9041-4c2c264fef22",
   "metadata": {},
   "outputs": [],
   "source": [
    "df.to_csv(new_path)"
   ]
  },
  {
   "cell_type": "code",
   "execution_count": null,
   "id": "a941977c-dd79-4a63-b702-f3937d9fdf8e",
   "metadata": {},
   "outputs": [],
   "source": [
    "import os\n",
    "new_folder_name='frequency_tables'\n",
    "try:\n",
    "    os.makedirs(new_folder_name)\n",
    "except Exception as e:\n",
    "    print(e)\n",
    "\n",
    "cwd=os.getcwd() \n",
    "new_dir=os.path.join(cwd,new_folder_name)\n",
    "file_name='continent.csv'\n",
    "new_path=os.path.join(new_dir,file_name) # path\n",
    "new_path"
   ]
  },
  {
   "cell_type": "code",
   "execution_count": 35,
   "id": "bfa505b5-e19c-46ff-a25f-4ddf391772da",
   "metadata": {},
   "outputs": [],
   "source": [
    "\n",
    "cwd=os.getcwd() \n",
    "new_dir=os.path.join(cwd,new_folder_name)\n",
    "#################################################################\n",
    "visa_df['continent'].value_counts()\n",
    "keys=visa_df['continent'].value_counts().keys()\n",
    "values=visa_df['continent'].value_counts().values\n",
    "df=pd.DataFrame(zip(keys,values),\n",
    "             columns=['Count','Number of Applicants'])\n",
    "#############################################################\n",
    "file_name='continent.csv'\n",
    "new_path=os.path.join(new_dir,file_name) # path\n",
    "df.to_csv(new_path)"
   ]
  },
  {
   "cell_type": "code",
   "execution_count": 39,
   "id": "da5a0224-4f10-426c-9340-a2abee3e85ab",
   "metadata": {},
   "outputs": [],
   "source": [
    "cwd=os.getcwd() \n",
    "new_dir=os.path.join(cwd,new_folder_name)\n",
    "#################################################################\n",
    "for i in cat[1:]:\n",
    "    visa_df[i].value_counts()\n",
    "    keys=visa_df[i].value_counts().keys()\n",
    "    values=visa_df[i].value_counts().values\n",
    "    df=pd.DataFrame(zip(keys,values),\n",
    "                 columns=['Count','Number of Applicants'])\n",
    "    #############################################################\n",
    "    file_name=f'{i}.csv'\n",
    "    new_path=os.path.join(new_dir,file_name) # path\n",
    "    df.to_csv(new_path)"
   ]
  },
  {
   "cell_type": "markdown",
   "id": "ca075aa9-37f8-426d-9f83-b604944aaa8f",
   "metadata": {},
   "source": [
    "**uploading bar charts**"
   ]
  },
  {
   "cell_type": "code",
   "execution_count": 8,
   "id": "47ca54a9-5bcc-4102-bc2c-b23bfff05e47",
   "metadata": {},
   "outputs": [
    {
     "data": {
      "image/png": "[encoded data removed]",
      "text/plain": [
       "<Figure size 640x480 with 1 Axes>"
      ]
     },
     "metadata": {},
     "output_type": "display_data"
    }
   ],
   "source": [
    "keys=visa_df['continent'].value_counts().keys()\n",
    "values=visa_df['continent'].value_counts().values\n",
    "plt.bar(keys,values)\n",
    "plt.savefig('continent_bar.jpg')"
   ]
  },
  {
   "cell_type": "code",
   "execution_count": 12,
   "id": "aa071b54-b608-4083-ad11-60fa6957cdcf",
   "metadata": {},
   "outputs": [
    {
     "data": {
      "image/png": "[encoded data removed]",
      "text/plain": [
       "<Figure size 640x480 with 1 Axes>"
      ]
     },
     "metadata": {},
     "output_type": "display_data"
    }
   ],
   "source": [
    "import os\n",
    "folder_name='bar_charts'\n",
    "try:\n",
    "    os.makedirs(folder_name)\n",
    "except Exception as e:\n",
    "    print(e)\n",
    "\n",
    "cwd=os.getcwd()\n",
    "new_dir=os.path.join(cwd,folder_name)\n",
    "\n",
    "for i in cat[1:]:\n",
    "    keys=visa_df[i].value_counts().keys()\n",
    "    values=visa_df[i].value_counts().values\n",
    "    file_name=f'{i}_bar.jpg'\n",
    "    path=os.path.join(new_dir,file_name)\n",
    "    plt.bar(keys,values)\n",
    "    plt.savefig(path)"
   ]
  },
  {
   "cell_type": "code",
   "execution_count": null,
   "id": "35899b47-8258-45ad-a505-ec28bd975f7e",
   "metadata": {},
   "outputs": [],
   "source": []
  }
 ],
 "metadata": {
  "kernelspec": {
   "display_name": "Python [conda env:base] *",
   "language": "python",
   "name": "conda-base-py"
  },
  "language_info": {
   "codemirror_mode": {
    "name": "ipython",
    "version": 3
   },
   "file_extension": ".py",
   "mimetype": "text/x-python",
   "name": "python",
   "nbconvert_exporter": "python",
   "pygments_lexer": "ipython3",
   "version": "3.12.7"
  }
 },
 "nbformat": 4,
 "nbformat_minor": 5
}
